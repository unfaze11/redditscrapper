{
 "cells": [
  {
   "cell_type": "code",
   "execution_count": 2,
   "id": "b78e5b1a",
   "metadata": {},
   "outputs": [
    {
     "name": "stdout",
     "output_type": "stream",
     "text": [
      "Collecting httpxNote: you may need to restart the kernel to use updated packages.\n",
      "\n",
      "  Obtaining dependency information for httpx from https://files.pythonhosted.org/packages/41/7b/ddacf6dcebb42466abd03f368782142baa82e08fc0c1f8eaa05b4bae87d5/httpx-0.27.0-py3-none-any.whl.metadata\n",
      "  Downloading httpx-0.27.0-py3-none-any.whl.metadata (7.2 kB)\n",
      "Requirement already satisfied: anyio in c:\\users\\rions\\anaconda3\\lib\\site-packages (from httpx) (3.5.0)\n",
      "Requirement already satisfied: certifi in c:\\users\\rions\\anaconda3\\lib\\site-packages (from httpx) (2024.2.2)\n",
      "Collecting httpcore==1.* (from httpx)\n",
      "  Obtaining dependency information for httpcore==1.* from https://files.pythonhosted.org/packages/78/d4/e5d7e4f2174f8a4d63c8897d79eb8fe2503f7ecc03282fee1fa2719c2704/httpcore-1.0.5-py3-none-any.whl.metadata\n",
      "  Downloading httpcore-1.0.5-py3-none-any.whl.metadata (20 kB)\n",
      "Requirement already satisfied: idna in c:\\users\\rions\\anaconda3\\lib\\site-packages (from httpx) (3.4)\n",
      "Requirement already satisfied: sniffio in c:\\users\\rions\\anaconda3\\lib\\site-packages (from httpx) (1.2.0)\n",
      "Collecting h11<0.15,>=0.13 (from httpcore==1.*->httpx)\n",
      "  Obtaining dependency information for h11<0.15,>=0.13 from https://files.pythonhosted.org/packages/95/04/ff642e65ad6b90db43e668d70ffb6736436c7ce41fcc549f4e9472234127/h11-0.14.0-py3-none-any.whl.metadata\n",
      "  Downloading h11-0.14.0-py3-none-any.whl.metadata (8.2 kB)\n",
      "Downloading httpx-0.27.0-py3-none-any.whl (75 kB)\n",
      "   ---------------------------------------- 0.0/75.6 kB ? eta -:--:--\n",
      "   ----- ---------------------------------- 10.2/75.6 kB ? eta -:--:--\n",
      "   -------------------------------- ------- 61.4/75.6 kB 1.1 MB/s eta 0:00:01\n",
      "   ---------------------------------------- 75.6/75.6 kB 837.8 kB/s eta 0:00:00\n",
      "Downloading httpcore-1.0.5-py3-none-any.whl (77 kB)\n",
      "   ---------------------------------------- 0.0/77.9 kB ? eta -:--:--\n",
      "   ---------------------------------------- 77.9/77.9 kB 4.2 MB/s eta 0:00:00\n",
      "Downloading h11-0.14.0-py3-none-any.whl (58 kB)\n",
      "   ---------------------------------------- 0.0/58.3 kB ? eta -:--:--\n",
      "   ---------------------------------------- 58.3/58.3 kB 3.2 MB/s eta 0:00:00\n",
      "Installing collected packages: h11, httpcore, httpx\n",
      "Successfully installed h11-0.14.0 httpcore-1.0.5 httpx-0.27.0\n"
     ]
    }
   ],
   "source": [
    "pip install httpx"
   ]
  },
  {
   "cell_type": "code",
   "execution_count": 3,
   "id": "15570572",
   "metadata": {},
   "outputs": [
    {
     "name": "stdout",
     "output_type": "stream",
     "text": [
      "fetching \"https://www.reddit.com/r/CarsIndia/hot.json?limit=100&t=year&after=\"...\n",
      "fetching \"https://www.reddit.com/r/CarsIndia/hot.json?limit=100&t=year&after=t3_1cbdkgg\"...\n",
      "fetching \"https://www.reddit.com/r/CarsIndia/hot.json?limit=100&t=year&after=t3_1ca7e76\"...\n",
      "fetching \"https://www.reddit.com/r/CarsIndia/hot.json?limit=100&t=year&after=t3_1c9laly\"...\n",
      "fetching \"https://www.reddit.com/r/CarsIndia/hot.json?limit=100&t=year&after=t3_1c8mat1\"...\n"
     ]
    }
   ],
   "source": [
    "import time\n",
    "import pandas as pd\n",
    "import httpx \n",
    "\n",
    "base_url = 'https://www.reddit.com'\n",
    "endpoint = '/r/CarsIndia'\n",
    "category = '/hot'\n",
    "\n",
    "url = base_url + endpoint + category + \".json\"\n",
    "after_post_id = None\n",
    "dataset = []\n",
    "\n",
    "for _ in range(5):\n",
    "    params = {\n",
    "        'limit': 100,\n",
    "        't': 'year',\n",
    "        'after': after_post_id \n",
    "    }\n",
    "    response = httpx.get(url, params=params)\n",
    "    print(f'fetching \"{response.url}\"...')\n",
    "    if response.status_code != 200:\n",
    "        raise Exception('Failed to fetch data')\n",
    "    \n",
    "    json_data = response.json()\n",
    "\n",
    "    dataset.extend([rec['data'] for rec in json_data['data']['children']])\n",
    "\n",
    "    after_post_id = json_data['data']['after']\n",
    "    time.sleep(0.5)\n",
    "\n",
    "df = pd.DataFrame(dataset)\n",
    "df.to_csv('reddit_python.csv', index=False)"
   ]
  },
  {
   "cell_type": "code",
   "execution_count": null,
   "id": "8a7ce60a",
   "metadata": {},
   "outputs": [],
   "source": []
  }
 ],
 "metadata": {
  "kernelspec": {
   "display_name": "Python 3 (ipykernel)",
   "language": "python",
   "name": "python3"
  },
  "language_info": {
   "codemirror_mode": {
    "name": "ipython",
    "version": 3
   },
   "file_extension": ".py",
   "mimetype": "text/x-python",
   "name": "python",
   "nbconvert_exporter": "python",
   "pygments_lexer": "ipython3",
   "version": "3.11.5"
  }
 },
 "nbformat": 4,
 "nbformat_minor": 5
}
